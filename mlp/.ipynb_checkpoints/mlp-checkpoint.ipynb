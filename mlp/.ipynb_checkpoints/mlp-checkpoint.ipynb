{
 "cells": [
  {
   "cell_type": "code",
   "execution_count": 1,
   "id": "79f09a10",
   "metadata": {},
   "outputs": [],
   "source": [
    "## Tejas Acharya\n",
    "## EE-541\n",
    "## Homework 03\n",
    "## Problem 01\n",
    "## 06-06-2023"
   ]
  },
  {
   "cell_type": "code",
   "execution_count": 2,
   "id": "b6cf8484",
   "metadata": {},
   "outputs": [],
   "source": [
    "#Importing Libraries\n",
    "import numpy as np"
   ]
  },
  {
   "cell_type": "code",
   "execution_count": 3,
   "id": "02f1059c",
   "metadata": {},
   "outputs": [],
   "source": [
    "class MLP():\n",
    "    def __init__(self):\n",
    "        self.weight_1 = np.array([[1, -2], [3, 4]])\n",
    "        self.bias_1 = np.array([1, 0])\n",
    "        self.weight_2 = np.array([[2, 2], [3, -2]])\n",
    "        self.bias_2 = np.array([0, -4])\n",
    "    \n",
    "    def predict(self, x):\n",
    "        z_1 = np.dot(self.weight_1, x) + self.bias_1\n",
    "        a_1 = self.relu(z_1)\n",
    "        \n",
    "        z_2 = np.dot(self.weight_2, a_1) + self.bias_2\n",
    "        y = z_2\n",
    "        \n",
    "        return y\n",
    "    \n",
    "    \n",
    "    def relu(self, z):\n",
    "        return np.maximum(z, np.zeros_like(z))"
   ]
  },
  {
   "cell_type": "code",
   "execution_count": 4,
   "id": "8e98da1c",
   "metadata": {},
   "outputs": [
    {
     "name": "stdout",
     "output_type": "stream",
     "text": [
      "The output is y = [8 8] for input x = [ 1 -1].\n"
     ]
    }
   ],
   "source": [
    "x = np.array([1, -1])\n",
    "\n",
    "model = MLP()\n",
    "\n",
    "y = model.predict(x)\n",
    "print(f'The output is y = {y} for input x = {x}.')"
   ]
  }
 ],
 "metadata": {
  "kernelspec": {
   "display_name": "Python 3 (ipykernel)",
   "language": "python",
   "name": "python3"
  },
  "language_info": {
   "codemirror_mode": {
    "name": "ipython",
    "version": 3
   },
   "file_extension": ".py",
   "mimetype": "text/x-python",
   "name": "python",
   "nbconvert_exporter": "python",
   "pygments_lexer": "ipython3",
   "version": "3.8.16"
  }
 },
 "nbformat": 4,
 "nbformat_minor": 5
}
