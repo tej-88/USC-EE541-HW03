{
 "cells": [
  {
   "cell_type": "code",
   "execution_count": 1,
   "id": "6f3c9f3d",
   "metadata": {},
   "outputs": [],
   "source": [
    "# Tejas Acharya\n",
    "# EE-541\n",
    "# Homework 03\n",
    "# Problem 03\n",
    "# 06-06-2023"
   ]
  },
  {
   "cell_type": "code",
   "execution_count": 2,
   "id": "16daa5fd",
   "metadata": {},
   "outputs": [],
   "source": [
    "#Importing Libraries\n",
    "import h5py\n",
    "import numpy as np\n",
    "import matplotlib.pyplot as plt"
   ]
  },
  {
   "cell_type": "code",
   "execution_count": 3,
   "id": "621c2982",
   "metadata": {},
   "outputs": [],
   "source": [
    "#Constants\n",
    "NETWORK_PARAMS_FILENAME = './mnist_network_params.hdf5'\n",
    "MNIST_TESTDATA_FILENAME = './mnist_testdata.hdf5'\n",
    "PARAM_KEYS = ['W1', 'W2', 'W3', 'b1', 'b2', 'b3']\n",
    "MNIST_X_KEY = 'xdata'\n",
    "MNIST_Y_KEY = 'ydata'"
   ]
  },
  {
   "cell_type": "code",
   "execution_count": 4,
   "id": "aa033e1f",
   "metadata": {},
   "outputs": [],
   "source": [
    "class MLP():\n",
    "    def __init__(self, param_file, param_keys):\n",
    "        with h5py.File(param_file) as hf:\n",
    "            self.W1 = hf[param_keys[0]][:]\n",
    "            self.W2 = hf[param_keys[1]][:]\n",
    "            self.W3 = hf[param_keys[2]][:]\n",
    "            self.b1 = hf[param_keys[3]][:]\n",
    "            self.b2 = hf[param_keys[4]][:]\n",
    "            self.b3 = hf[param_keys[5]][:]\n",
    "            \n",
    "        assert self.W1.shape == (200, 784)\n",
    "        assert self.b1.shape == (200,)\n",
    "        \n",
    "        assert self.W2.shape == (100, 200)\n",
    "        assert self.b2.shape == (100,)\n",
    "        \n",
    "        assert self.W3.shape == (10, 100)\n",
    "        assert self.b3.shape == (10,)\n",
    "        \n",
    "        \n",
    "    def predict(self, x):\n",
    "        z1 = np.dot(self.W1, x) + self.b1\n",
    "        a1 = self.relu(z1)\n",
    "        \n",
    "        z2 = np.dot(self.W2, a1) + self.b2\n",
    "        a2 = self.relu(z2)\n",
    "        \n",
    "        z3 = np.dot(self.W3, a2) + self.b3\n",
    "        y_hat = self.softmax(z3)\n",
    "        \n",
    "        return y_hat\n",
    "        \n",
    "    \n",
    "    def relu(self, x):\n",
    "        return np.maximum(x, np.zeros_like(x))\n",
    "    \n",
    "    \n",
    "    def softmax(self, x):\n",
    "        return np.exp(x) / np.sum(np.exp(x))"
   ]
  },
  {
   "cell_type": "code",
   "execution_count": 5,
   "id": "60dbfe3e",
   "metadata": {},
   "outputs": [],
   "source": [
    "#Load Test Data\n",
    "with h5py.File(MNIST_TESTDATA_FILENAME) as hf:\n",
    "    images = hf[MNIST_X_KEY][:]\n",
    "    labels = hf[MNIST_Y_KEY][:]\n",
    "\n",
    "assert images.shape == (10000, 784)\n",
    "assert labels.shape == (10000, 10)"
   ]
  },
  {
   "cell_type": "code",
   "execution_count": 6,
   "id": "36a8db39",
   "metadata": {},
   "outputs": [],
   "source": [
    "num_correct = 0\n",
    "\n",
    "model = MLP(NETWORK_PARAMS_FILENAME, PARAM_KEYS)\n",
    "\n",
    "for x, y in zip(images, labels):\n",
    "    y_hat = model.predict(x)\n",
    "    label_hat = np.argmax(y_hat)\n",
    "    label = np.argmax(y)\n",
    "    num_correct += 1 if (label == label_hat) else 0"
   ]
  },
  {
   "cell_type": "code",
   "execution_count": 7,
   "id": "9822b1b0",
   "metadata": {},
   "outputs": [
    {
     "name": "stdout",
     "output_type": "stream",
     "text": [
      "The number of correctly classified images is 9790.\n"
     ]
    }
   ],
   "source": [
    "print(f'The number of correctly classified images is {num_correct}.')"
   ]
  },
  {
   "cell_type": "code",
   "execution_count": 8,
   "id": "19919eba",
   "metadata": {},
   "outputs": [
    {
     "name": "stdout",
     "output_type": "stream",
     "text": [
      "By going through the dataset and the prediction, I found image at index 8 was misclassified.\n"
     ]
    },
    {
     "data": {
      "image/png": "[encoded data removed]",
      "text/plain": [
       "<Figure size 640x480 with 1 Axes>"
      ]
     },
     "metadata": {},
     "output_type": "display_data"
    },
    {
     "name": "stdout",
     "output_type": "stream",
     "text": [
      "The actual label of the image is 5.\n",
      "The predicted label of the image is 6.\n"
     ]
    }
   ],
   "source": [
    "print('By going through the dataset and the prediction, I found image at index 8 was misclassified.')\n",
    "\n",
    "plt.figure()\n",
    "plt.imshow(images[8].reshape(28,28))\n",
    "plt.show() \n",
    "print(f'The actual label of the image is {np.argmax(labels[8])}.')\n",
    "print(f'The predicted label of the image is {np.argmax(model.predict(images[8]))}.')"
   ]
  },
  {
   "cell_type": "code",
   "execution_count": 9,
   "id": "30f90176",
   "metadata": {},
   "outputs": [
    {
     "name": "stdout",
     "output_type": "stream",
     "text": [
      "By inspecting the above image visually, it is obvious for the model to predict the image as 6 instead of 5, because the image is ambiguosly 5 and 6 to the human eye.\n"
     ]
    }
   ],
   "source": [
    "print('By inspecting the above image visually, it is obvious for the model to predict the image as 6 instead of 5, because the image is ambiguosly 5 and 6 to the human eye.')"
   ]
  }
 ],
 "metadata": {
  "kernelspec": {
   "display_name": "Python 3 (ipykernel)",
   "language": "python",
   "name": "python3"
  },
  "language_info": {
   "codemirror_mode": {
    "name": "ipython",
    "version": 3
   },
   "file_extension": ".py",
   "mimetype": "text/x-python",
   "name": "python",
   "nbconvert_exporter": "python",
   "pygments_lexer": "ipython3",
   "version": "3.8.16"
  }
 },
 "nbformat": 4,
 "nbformat_minor": 5
}
